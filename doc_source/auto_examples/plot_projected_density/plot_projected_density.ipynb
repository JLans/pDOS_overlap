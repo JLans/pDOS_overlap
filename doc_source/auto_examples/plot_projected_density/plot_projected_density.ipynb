{
  "cells": [
    {
      "cell_type": "code",
      "execution_count": null,
      "metadata": {
        "collapsed": false
      },
      "outputs": [],
      "source": [
        "%matplotlib inline"
      ]
    },
    {
      "cell_type": "markdown",
      "metadata": {},
      "source": [
        "\n# Plotting projected density obtained from vasp_dos\n\n\nThis example shows how to plot projected density of states\n"
      ]
    },
    {
      "cell_type": "code",
      "execution_count": null,
      "metadata": {
        "collapsed": false
      },
      "outputs": [],
      "source": [
        "import os\nimport numpy as np\nimport matplotlib.pyplot as plt\nfrom pdos_overlap import get_example_data\nfrom pdos_overlap import VASP_DOS\nfrom pdos_overlap.plotting_tools import set_figure_settings"
      ]
    },
    {
      "cell_type": "markdown",
      "metadata": {},
      "source": [
        "Load DOSCAR file\n----------------\n\nFirst we will, get the example data, load a DOSCAR file and use it to\ninstantiate a VASP_DOS object.\n\n"
      ]
    },
    {
      "cell_type": "code",
      "execution_count": null,
      "metadata": {
        "collapsed": false
      },
      "outputs": [],
      "source": [
        "set_figure_settings('paper')\nexample_path = get_example_data()\nDOSCAR = os.path.join(example_path, 'C2H4/DOSCAR')\nPDOS = VASP_DOS(DOSCAR)"
      ]
    },
    {
      "cell_type": "markdown",
      "metadata": {},
      "source": [
        "Obtain projected density\n------------------------\n\nWe get the site and spin orbital projected density. We sum the individual\nspin orbital densities to get energy sub-level site projected densities.\n\n"
      ]
    },
    {
      "cell_type": "code",
      "execution_count": null,
      "metadata": {
        "collapsed": false
      },
      "outputs": [],
      "source": [
        "orbitals, projected_density = PDOS.get_site_dos(atom_list=np.arange(-6,0), orbital_list=['s', 'p', 'd']\\\n                                      , sum_density = True)"
      ]
    },
    {
      "cell_type": "markdown",
      "metadata": {},
      "source": [
        "Plot projected density\n----------------------\n\nWe plot the projected density with the fermi-level indicated.\n\n"
      ]
    },
    {
      "cell_type": "code",
      "execution_count": null,
      "metadata": {
        "collapsed": false
      },
      "outputs": [],
      "source": [
        "plt.figure(figsize=(3,3))\ncolors = ['b','g','r']\nzorder = [2,3,4]\nfor count, density in enumerate(projected_density):\n    plt.plot(density, PDOS.get_energies(), colors[count], zorder=zorder[count])\nplt.plot([np.min(projected_density), np.max(projected_density)]\\\n         ,[PDOS.e_fermi, PDOS.e_fermi],'k--', zorder=1, linewidth=5)\nplt.legend([i for i in orbitals]+ ['fermi level'])\nplt.xlabel('State density')\nplt.ylabel('Energy [eV]')\nplt.show()"
      ]
    }
  ],
  "metadata": {
    "kernelspec": {
      "display_name": "Python 3",
      "language": "python",
      "name": "python3"
    },
    "language_info": {
      "codemirror_mode": {
        "name": "ipython",
        "version": 3
      },
      "file_extension": ".py",
      "mimetype": "text/x-python",
      "name": "python",
      "nbconvert_exporter": "python",
      "pygments_lexer": "ipython3",
      "version": "3.7.4"
    }
  },
  "nbformat": 4,
  "nbformat_minor": 0
}