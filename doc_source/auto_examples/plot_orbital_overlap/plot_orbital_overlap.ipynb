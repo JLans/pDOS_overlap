{
  "cells": [
    {
      "cell_type": "code",
      "execution_count": null,
      "metadata": {
        "collapsed": false
      },
      "outputs": [],
      "source": [
        "%matplotlib inline"
      ]
    },
    {
      "cell_type": "markdown",
      "metadata": {},
      "source": [
        "\n# Calculating orbital overlap using pdos_overlap\n\n\nThis example shows how calculate the overlap of gas phase molecular orbitals\nwith an adsorbate and surface atom.\n"
      ]
    },
    {
      "cell_type": "code",
      "execution_count": null,
      "metadata": {
        "collapsed": false
      },
      "outputs": [],
      "source": [
        "import os\nimport numpy as np\nfrom pdos_overlap import VASP_DOS\nfrom pdos_overlap.plotting_tools import set_figure_settings\nfrom pdos_overlap import get_adsorbate_indices\nfrom pdos_overlap import PDOS_OVERLAP\nfrom pdos_overlap.coordination import get_geometric_data"
      ]
    },
    {
      "cell_type": "markdown",
      "metadata": {},
      "source": [
        "Load DOSCAR file\n----------------\n\nFirst we will, get the example data, load a DOSCAR file and use it to\ninstantiate a VASP_DOS object.\n\n"
      ]
    },
    {
      "cell_type": "code",
      "execution_count": null,
      "metadata": {
        "collapsed": false
      },
      "outputs": [],
      "source": [
        "gas = 'CO'\nsurface = 'Pt111'\nset_figure_settings('paper')\nnp.set_printoptions(linewidth=100)\n#These files are too large to store in the examples directory\nexample_path = r'C:\\Users\\lansf\\Documents\\Data\\PROBE_PDOS\\vasp_dos_files'\nGAS_DOSCAR = os.path.join(example_path, gas + '/DOSCAR')\nGAS_CONTCAR = os.path.join(example_path, gas + '/CONTCAR')\nADSORBATE_DOSCAR = os.path.join(example_path, gas + '+' + surface + '/DOSCAR')\nADSORBATE_CONTCAR = os.path.join(example_path, gas + '+' + surface + '/CONTCAR')"
      ]
    },
    {
      "cell_type": "markdown",
      "metadata": {},
      "source": [
        "Generate VASP_DOS objects\n-------------------------\n\nVASP_DOS objects for both the gas (vacuum) and the adsorbate+surface system\n\n"
      ]
    },
    {
      "cell_type": "code",
      "execution_count": null,
      "metadata": {
        "collapsed": false
      },
      "outputs": [],
      "source": [
        "GAS_PDOS = VASP_DOS(GAS_DOSCAR)\nREFERENCE_PDOS = VASP_DOS(ADSORBATE_DOSCAR)"
      ]
    },
    {
      "cell_type": "markdown",
      "metadata": {},
      "source": [
        "Get adsorbate and site indices and initialize PDOS_OVERLAP object\n-----------------------------------------------------------------\n\nThis method utilizes two VASP_DOS objects, a gas and an adsorption system.\nIt uses the adosorbtion system (REFERENCE_PDOS) to map gas molecular orbitals\nto adsorbate molecular orbitals. It then calculates the adsorption site\natomic orbital energy overlaps with the adsorbate molecular orbital energies.\n\n"
      ]
    },
    {
      "cell_type": "code",
      "execution_count": null,
      "metadata": {
        "collapsed": false
      },
      "outputs": [],
      "source": [
        "adsorbate_indices, site_indices = get_adsorbate_indices(GAS_CONTCAR\\\n                                                        , ADSORBATE_CONTCAR)\n#Initialize Coordination object. Repeat is necessary so it doesn't count itself\nCO_overlap = PDOS_OVERLAP(GAS_PDOS, REFERENCE_PDOS, adsorbate_indices\\\n                          , site_indices, min_occupation=0.9\\\n                          , upshift=0.5, energy_weight=4)"
      ]
    },
    {
      "cell_type": "markdown",
      "metadata": {},
      "source": [
        "Plot projected density\n----------------------\n\nWe plot the projected density of the gas, adsorbate, and adsorption site.\n\n"
      ]
    },
    {
      "cell_type": "code",
      "execution_count": null,
      "metadata": {
        "collapsed": false
      },
      "outputs": [],
      "source": [
        "CO_overlap.plot_projected_density()"
      ]
    },
    {
      "cell_type": "markdown",
      "metadata": {},
      "source": [
        "Find the optimal upshift factor\n-------------------------------\n\nThe optimal upshift factor shifts the molecular orbital energies to\nminimize the sum the orbital scores used in matching gas and adsorbate orbitals.\nThis has the effect of increasing certainty and roughly corresponds to the \naverage shift in molecular orbital energies when a gas adsorbs to the surface\nas a fraction of the fermi energy.\n\n"
      ]
    },
    {
      "cell_type": "code",
      "execution_count": null,
      "metadata": {
        "collapsed": false
      },
      "outputs": [],
      "source": [
        "optimized_upshift = CO_overlap.optimize_energy_shift(bound=[-0.5,1.5]\\\n                                                     , reset=True, plot=True)\nprint(optimized_upshift)"
      ]
    },
    {
      "cell_type": "markdown",
      "metadata": {},
      "source": [
        "Print orbital CO_overlap attributes\n-----------------------------------\n\nDifferences in features are used in computing orbital scores. \nScores are used to map gas molecular orbitals ot adsorbate molecular orbitals.\n\n"
      ]
    },
    {
      "cell_type": "code",
      "execution_count": null,
      "metadata": {
        "collapsed": false
      },
      "outputs": [],
      "source": [
        "print('Print molecular gas and adsorbate orbital features, respectively.')\nprint(CO_overlap.gas_features)\nprint(CO_overlap.adsorbate_features)\nprint('#####################################################################')\nprint('Orbital matching scores')\nprint(CO_overlap.orbital_scores)\nprint('#####################################################################')\nprint('Gas to adsorbate indices and band centers')\nprint(CO_overlap.gas_2_adsorbate)"
      ]
    },
    {
      "cell_type": "markdown",
      "metadata": {},
      "source": [
        "Plot energy overlap\n-------------------\nWe select energy overlap histograms with the adsorbate molecular orbitals\nthat influence spectra. Gas orbitals 1,2, and 3 interact with the surface.\n\n"
      ]
    },
    {
      "cell_type": "code",
      "execution_count": null,
      "metadata": {
        "collapsed": false
      },
      "outputs": [],
      "source": [
        "gas_indices = [i for i in range(5) if CO_overlap.gas_2_adsorbate[i][0] in [1,2,3]]\nadsorbate_indices = CO_overlap.gas_2_adsorbate[gas_indices,1].astype('int')\nCO_overlap.plot_energy_overlap(adsorbate_indices)"
      ]
    },
    {
      "cell_type": "markdown",
      "metadata": {},
      "source": [
        "Print orbital interactions\n--------------------------\nPlot orbital interaction of the first gas molecular orbital with a surface\ns, pz, and dz2 orbitals. These are identified from first figure above\n\n"
      ]
    },
    {
      "cell_type": "code",
      "execution_count": null,
      "metadata": {
        "collapsed": false
      },
      "outputs": [],
      "source": [
        "nano = 'Pt44'\nnano_DOSCAR = os.path.join(example_path, nano + '/DOSCAR')\nnano_CONTCAR = os.path.join(example_path, nano + '/CONTCAR')\n#obtain atom indices and atom type as 'surface' or 'bulk'\nnano_indices, GCNs, atom_types = get_geometric_data(nano_CONTCAR)\n#initialize a PDOS object for the nanoparticle\nnano_PDOS = VASP_DOS(nano_DOSCAR)\n#calculate orbital interactions\nprint('Interactions with 4sigma orbital')\norbital_interaction = CO_overlap.calculate_orbital_interaction(gas_indices[0]\\\n                    , nano_PDOS, nano_indices[atom_types[...] == 'surface'][0]\\\n                         , ['s','pz','dz2'], sum_density=False, sum_spin=True)\nprint(orbital_interaction)\nprint('Interactions with 2pi orbital')\norbital_interaction = CO_overlap.calculate_orbital_interaction(gas_indices[1]\\\n                    , nano_PDOS, nano_indices[atom_types[...] == 'surface'][0]\\\n                         , ['dyz','dxz'], sum_density=False, sum_spin=True)\nprint(orbital_interaction)\nprint('Interactions with 5sigma orbital')\norbital_interaction = CO_overlap.calculate_orbital_interaction(gas_indices[2]\\\n                    , nano_PDOS, nano_indices[atom_types[...] == 'surface'][0]\\\n                         , ['s','pz','dz2'], sum_density=False, sum_spin=True)\nprint(orbital_interaction)"
      ]
    }
  ],
  "metadata": {
    "kernelspec": {
      "display_name": "Python 3",
      "language": "python",
      "name": "python3"
    },
    "language_info": {
      "codemirror_mode": {
        "name": "ipython",
        "version": 3
      },
      "file_extension": ".py",
      "mimetype": "text/x-python",
      "name": "python",
      "nbconvert_exporter": "python",
      "pygments_lexer": "ipython3",
      "version": "3.7.4"
    }
  },
  "nbformat": 4,
  "nbformat_minor": 0
}