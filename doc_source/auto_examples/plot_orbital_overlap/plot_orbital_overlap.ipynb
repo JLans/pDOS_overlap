{
  "cells": [
    {
      "cell_type": "code",
      "execution_count": null,
      "metadata": {
        "collapsed": false
      },
      "outputs": [],
      "source": [
        "%matplotlib inline"
      ]
    },
    {
      "cell_type": "markdown",
      "metadata": {},
      "source": [
        "\n# Calculating orbital overlap using pdos_overlap\n\n\nThis example shows how calculate the overlap of gas phase molecular orbitals with an adsorbate and surface atom.\n"
      ]
    },
    {
      "cell_type": "code",
      "execution_count": null,
      "metadata": {
        "collapsed": false
      },
      "outputs": [],
      "source": [
        "import os\nimport numpy as np\nfrom pdos_overlap.vasp_dos import VASP_DOS\nfrom pdos_overlap import get_adsorbate_indices\nfrom pdos_overlap import PDOS_OVERLAP\nfrom pdos_overlap.overlap_population import OVERLAP_POPULATION\nimport matplotlib.pyplot as plt\nDownloads_folder = os.path.join(os.path.expanduser(\"~\"),'Downloads')"
      ]
    },
    {
      "cell_type": "markdown",
      "metadata": {},
      "source": [
        "Load DOSCAR file\n----------------\n\nFirst we will, get the example data, load a DOSCAR file and use it to\ninstantiate a VASP_DOS object.\n\n"
      ]
    },
    {
      "cell_type": "code",
      "execution_count": null,
      "metadata": {
        "collapsed": false
      },
      "outputs": [],
      "source": [
        "gas = 'gases/CO'\nadsorbate = 'CO'\nsurface = 'Pt111'\nnp.set_printoptions(linewidth=100)\n#These files are too large to store in the examples directory\nlobster_path = r'C:\\Users\\lansf\\Documents\\Data\\PROBE_PDOS\\lobster_files_(N+1)bands'\nGAS_DOSCAR = os.path.join(lobster_path, gas + '/DOSCAR.lobster')\nGAS_CONTCAR = os.path.join(lobster_path, gas + '/CONTCAR')\nADSORBATE_DOSCAR = os.path.join(lobster_path, 'surfaces_noW/'+surface + '+'\\\n                          + adsorbate + '/DOSCAR.lobster')\nADSORBATE_CONTCAR = os.path.join(lobster_path, 'surfaces_noW/'+surface + '+'\\\n                          + adsorbate + '/CONTCAR')"
      ]
    },
    {
      "cell_type": "markdown",
      "metadata": {},
      "source": [
        "Generate VASP_DOS objects\n-------------------------\n\nVASP_DOS objects for both the gas (vacuum) and the adsorbate+surface system\n\n"
      ]
    },
    {
      "cell_type": "code",
      "execution_count": null,
      "metadata": {
        "collapsed": false
      },
      "outputs": [],
      "source": [
        "GAS_PDOS = VASP_DOS(GAS_DOSCAR)\nREFERENCE_PDOS = VASP_DOS(ADSORBATE_DOSCAR)\n#REFERENCE_PDOS.apply_gaussian_filter(10)"
      ]
    },
    {
      "cell_type": "markdown",
      "metadata": {},
      "source": [
        "Get adsorbate and site indices and initialize PDOS_OVERLAP object\n-----------------------------------------------------------------\n\nThis method utilizes two VASP_DOS objects, a gas and an adsorption system.\nIt uses the adosorbtion system (REFERENCE_PDOS) to map gas molecular orbitals\nto adsorbate molecular orbitals. It then calculates the adsorption site\natomic orbital energy overlaps with the adsorbate molecular orbital energies.\n\n"
      ]
    },
    {
      "cell_type": "code",
      "execution_count": null,
      "metadata": {
        "collapsed": false
      },
      "outputs": [],
      "source": [
        "reference_indices, site_indices = get_adsorbate_indices(GAS_CONTCAR\\\n                                                        , ADSORBATE_CONTCAR)\n#Initialize Coordination object. Repeat is necessary so it doesn't count itself\nCO_overlap = PDOS_OVERLAP(GAS_PDOS, REFERENCE_PDOS, reference_indices\\\n                          , site_indices, min_occupation=0.9\\\n                          , upshift=0.5, energy_weight=4)"
      ]
    },
    {
      "cell_type": "markdown",
      "metadata": {},
      "source": [
        "Plot projected density\n----------------------\n\nWe plot the projected density of the gas, adsorbate, and adsorption site.\n\n"
      ]
    },
    {
      "cell_type": "code",
      "execution_count": null,
      "metadata": {
        "collapsed": false
      },
      "outputs": [],
      "source": [
        "CO_overlap.plot_projected_density(figure_directory='print')"
      ]
    },
    {
      "cell_type": "markdown",
      "metadata": {},
      "source": [
        "Find the optimal upshift factor\n-------------------------------\n\nThe optimal upshift factor shifts the gas molecular orbital energies to\nminimize the sum the orbital scores used in matching gas and adsorbate orbitals.\nThis has the effect of increasing certainty and roughly corresponds to the \naverage shift in molecular orbital energies when a gas adsorbs to the surface\n\n"
      ]
    },
    {
      "cell_type": "code",
      "execution_count": null,
      "metadata": {
        "collapsed": false
      },
      "outputs": [],
      "source": [
        "optimized_upshift = CO_overlap.optimize_energy_shift(bound=[-10,10]\\\n                                                     , reset=True, plot=True)\nprint(optimized_upshift)"
      ]
    },
    {
      "cell_type": "markdown",
      "metadata": {},
      "source": [
        "Identify bonding orbitals\n-------------------------\n\nWe calcluate the amount of density for each orbital that is in a bonding region\nWe can do this both for the gas and for the adsorbate\n\n"
      ]
    },
    {
      "cell_type": "code",
      "execution_count": null,
      "metadata": {
        "collapsed": false
      },
      "outputs": [],
      "source": [
        "#gas\nCOOPCAR_CO = os.path.join(lobster_path, gas + '/COOPCAR.lobster')\nPOP_CO_GAS = OVERLAP_POPULATION(COOPCAR_CO)\nbonding_states = POP_CO_GAS.get_bonding_states(CO_overlap.gas_orbital_indices\\\n                                               , CO_overlap.GAS_PDOS.get_energies()\\\n                                               , set_antibonding_zero=False)\nprint('Gas bonding states')\nprint(bonding_states)\n    \n#adsorbate\nCOOPCAR_CO = os.path.join(lobster_path, 'surfaces_noW/'+surface + '+'\\\n                          + adsorbate + '/COOPCAR.lobster')\nPOP_CO_ADSORBATE = OVERLAP_POPULATION(COOPCAR_CO)\nbonding_states = POP_CO_ADSORBATE.get_bonding_states(CO_overlap.adsorbate_orbital_indices\\\n                                               , CO_overlap.REFERENCE_PDOS.get_energies()\\\n                                               , set_antibonding_zero=True\n                                               , emax = CO_overlap.REFERENCE_PDOS.e_fermi)\nprint('Adsorbate bonding states')\nprint(bonding_states)\n\nbonding_states = POP_CO_ADSORBATE.get_bonding_states(CO_overlap.adsorbate_orbital_indices\n                                               , CO_overlap.REFERENCE_PDOS.get_energies()\n                                               , interactions = [2]\n                                               , set_antibonding_zero=False\n                                               , emax = CO_overlap.REFERENCE_PDOS.e_fermi)\nprint('C-O bonding states')\nprint(bonding_states)\nprint(CO_overlap.adsorbate_band_centers)\nprint(CO_overlap.adsorbate_occupations)"
      ]
    },
    {
      "cell_type": "markdown",
      "metadata": {},
      "source": [
        "Plot energy overlap\n-------------------\n\nWe select energy overlap histograms with the adsorbate molecular orbitals\nthat influence spectra. Gas orbitals 1,2, and 3 interact with the surface.\n\n"
      ]
    },
    {
      "cell_type": "code",
      "execution_count": null,
      "metadata": {
        "collapsed": false
      },
      "outputs": [],
      "source": [
        "CO_overlap.plot_energy_overlap(indices=[0,1,2,3], atomic_orbitals=['s', 'd']\n                               , figure_directory='print')"
      ]
    },
    {
      "cell_type": "markdown",
      "metadata": {},
      "source": [
        "Obtain projected overlap\n------------------------\n\nWe projected orbital overlap for the C-C bond and C-H bonds in C2H4\nWe group the CH bonds and ensure to sum for spins as all electrons are paired\n\n"
      ]
    },
    {
      "cell_type": "code",
      "execution_count": null,
      "metadata": {
        "collapsed": false
      },
      "outputs": [],
      "source": [
        "GAS_OVERLAP = POP_CO_GAS.get_pcoop([0], sum_pcoop=True)\nADSORBATE_OVERLAP = POP_CO_ADSORBATE.get_pcoop(sum_pcoop=True,set_antibonding_zero=True)\nCO_OVERLAP = POP_CO_ADSORBATE.get_pcoop([2],sum_pcoop=True)"
      ]
    },
    {
      "cell_type": "markdown",
      "metadata": {},
      "source": [
        "Plot the bonding populaiton with respect to the CC and CH bonds\n---------------------------------------------------------------\n\nA positive value on the x-axis indicates are greater proportion of states in\nin the bond than outside of the bond\n\n"
      ]
    },
    {
      "cell_type": "code",
      "execution_count": null,
      "metadata": {
        "collapsed": false
      },
      "outputs": [],
      "source": [
        "fig = plt.figure(figsize=(7.2,4))\nabc = ['(a)','(b)','(c)']\naxes = fig.subplots(nrows=1, ncols=3)\naxes_list = [axes[0], axes[1], axes[2]]\n#plotting function\ndef plot_density(OVERLAP, energies, e_fermi, index):\n    axes_list[index].plot(OVERLAP, energies, zorder=2)\n    axes_list[index].plot([np.min(OVERLAP), np.max(OVERLAP)]\n             ,[e_fermi, e_fermi], 'k--', zorder=1, linewidth=5) \n    axes_list[index].text(0.90,0.96,abc[index],transform=axes_list[index].transAxes)\n    \n#plot gas density\nplot_density(GAS_OVERLAP, POP_CO_GAS.get_energies(), POP_CO_GAS.e_fermi, 0)\n#plot adsorbate density\nplot_density(CO_OVERLAP, POP_CO_ADSORBATE.get_energies(), POP_CO_ADSORBATE.e_fermi, 1)\n#plot adsorption-site density\nplot_density(ADSORBATE_OVERLAP, POP_CO_ADSORBATE.get_energies(), POP_CO_ADSORBATE.e_fermi, 2)\nfig.text(0.001, 0.5, 'Energy [eV]', va='center', rotation='vertical')\nfig.text(0.5, 0.01, 'Overlap density [states/eV]', ha='center')\nfigure_path = os.path.join(Downloads_folder,'pccop.jpg')\nfig.set_tight_layout({'pad':2,'w_pad':1})\nfig.show()\nplt.close()"
      ]
    }
  ],
  "metadata": {
    "kernelspec": {
      "display_name": "Python 3",
      "language": "python",
      "name": "python3"
    },
    "language_info": {
      "codemirror_mode": {
        "name": "ipython",
        "version": 3
      },
      "file_extension": ".py",
      "mimetype": "text/x-python",
      "name": "python",
      "nbconvert_exporter": "python",
      "pygments_lexer": "ipython3",
      "version": "3.7.4"
    }
  },
  "nbformat": 4,
  "nbformat_minor": 0
}