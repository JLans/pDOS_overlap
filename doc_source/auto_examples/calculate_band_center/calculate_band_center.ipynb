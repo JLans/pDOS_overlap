{
  "cells": [
    {
      "cell_type": "code",
      "execution_count": null,
      "metadata": {
        "collapsed": false
      },
      "outputs": [],
      "source": [
        "%matplotlib inline"
      ]
    },
    {
      "cell_type": "markdown",
      "metadata": {},
      "source": [
        "\n# Calculating band center using vdos\n\n\nThis example shows how to plot projected density of states\n"
      ]
    },
    {
      "cell_type": "code",
      "execution_count": null,
      "metadata": {
        "collapsed": false
      },
      "outputs": [],
      "source": [
        "import os\nfrom vasp_dos import get_example_data\nfrom vasp_dos import VASP_DOS\nfrom vasp_dos.plotting_tools import set_figure_settings"
      ]
    },
    {
      "cell_type": "markdown",
      "metadata": {},
      "source": [
        "Load DOSCAR file\n----------------\n\nFirst we will, get the example data, load a DOSCAR file and use it to\ninstantiate a VASP_DOS object.\n\n"
      ]
    },
    {
      "cell_type": "code",
      "execution_count": null,
      "metadata": {
        "collapsed": false
      },
      "outputs": [],
      "source": [
        "set_figure_settings('paper')\nexample_path = get_example_data()\nDOSCAR = os.path.join(example_path, 'DOSCAR')\nPDOS = VASP_DOS(DOSCAR)"
      ]
    },
    {
      "cell_type": "markdown",
      "metadata": {},
      "source": [
        "Calculate and print band centers\n--------------------------------\n\nThis method uses the the site and spin orbital projected density. It sums the\nspin orbital densities to get energy sub-level band centers.\n\n"
      ]
    },
    {
      "cell_type": "code",
      "execution_count": null,
      "metadata": {
        "collapsed": false
      },
      "outputs": [],
      "source": [
        "orbitals = [key for key in PDOS.orbital_dictionary.keys() if 's' in key or 'p' in key]\n    \nband_centers = PDOS.get_band_center(0, orbital_list=orbitals\\\n                                    , max_energy=PDOS.e_fermi)\n\nfor count, orbital in enumerate(orbitals):\n    print(orbital + ' band center :' + str(band_centers[count]))"
      ]
    }
  ],
  "metadata": {
    "kernelspec": {
      "display_name": "Python 3",
      "language": "python",
      "name": "python3"
    },
    "language_info": {
      "codemirror_mode": {
        "name": "ipython",
        "version": 3
      },
      "file_extension": ".py",
      "mimetype": "text/x-python",
      "name": "python",
      "nbconvert_exporter": "python",
      "pygments_lexer": "ipython3",
      "version": "3.7.4"
    }
  },
  "nbformat": 4,
  "nbformat_minor": 0
}