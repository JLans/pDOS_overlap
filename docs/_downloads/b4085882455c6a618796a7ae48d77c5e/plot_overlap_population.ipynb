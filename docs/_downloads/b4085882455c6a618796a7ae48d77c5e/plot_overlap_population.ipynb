{
  "cells": [
    {
      "cell_type": "code",
      "execution_count": null,
      "metadata": {
        "collapsed": false
      },
      "outputs": [],
      "source": [
        "%matplotlib inline"
      ]
    },
    {
      "cell_type": "markdown",
      "metadata": {},
      "source": [
        "\n# Plotting cyrstal orbital overlap population obtained from lobster\n\n\nThis example shows how to plot overlap population data\nSee http://www.cohp.de/ for details\n"
      ]
    },
    {
      "cell_type": "code",
      "execution_count": null,
      "metadata": {
        "collapsed": false
      },
      "outputs": [],
      "source": [
        "import os\nimport numpy as np\nimport matplotlib.pyplot as plt\nfrom pdos_overlap.overlap_population import get_example_data\nfrom pdos_overlap.overlap_population import OVERLAP_POPULATION\nfrom pdos_overlap.plotting_tools import set_figure_settings"
      ]
    },
    {
      "cell_type": "markdown",
      "metadata": {},
      "source": [
        "Load COOPCAR file\n-----------------\n\nFirst we will, get the example data, load a COOPCAR file and use it to\ninstantiate an OVERLAP_POPULATION object\n\n"
      ]
    },
    {
      "cell_type": "code",
      "execution_count": null,
      "metadata": {
        "collapsed": false
      },
      "outputs": [],
      "source": [
        "set_figure_settings('paper')\nexample_path = get_example_data()\nCOOPCAR = os.path.join(example_path, 'C2H4/COOPCAR.lobster')\nPOP = OVERLAP_POPULATION(COOPCAR)"
      ]
    },
    {
      "cell_type": "markdown",
      "metadata": {},
      "source": [
        "Identify bonding interactions and check for spin\n------------------------------------------------\n\n\n"
      ]
    },
    {
      "cell_type": "code",
      "execution_count": null,
      "metadata": {
        "collapsed": false
      },
      "outputs": [],
      "source": [
        "print(POP.interactions)\nprint(POP.is_spin)"
      ]
    },
    {
      "cell_type": "markdown",
      "metadata": {},
      "source": [
        "Obtain projected overlap\n------------------------\n\nWe projected orbital overlap for the C-C bond and C-H bonds in C2H4\nWe group the CH bonds and ensure to sum for spins as all electrons are paired\n\n"
      ]
    },
    {
      "cell_type": "code",
      "execution_count": null,
      "metadata": {
        "collapsed": false
      },
      "outputs": [],
      "source": [
        "CC_overlap = POP.get_pcoop(interactions=[0], sum_pcoop=False, sum_spin=True)\nCH_overlap = POP.get_pcoop(interactions=[1,2,3,4], sum_pcoop=True, sum_spin=True)"
      ]
    },
    {
      "cell_type": "markdown",
      "metadata": {},
      "source": [
        "Plot the bonding populaiton with respect to the CC and CH bonds\n---------------------------------------------------------------\n\nA positive value on the x-axis indicates are greater proportion of states in\nin the bond than outside of the bond\n\n"
      ]
    },
    {
      "cell_type": "code",
      "execution_count": null,
      "metadata": {
        "collapsed": false
      },
      "outputs": [],
      "source": [
        "plt.figure(figsize=(3,5))\nplt.plot(CC_overlap, POP.get_energies(), zorder=3)\nplt.plot(CH_overlap, POP.get_energies(), zorder=2)\nplt.plot([np.min([CC_overlap, CH_overlap]), np.max([CC_overlap, CH_overlap])]\\\n         ,[POP.e_fermi, POP.e_fermi],'k--', zorder=1, linewidth=5)\nplt.legend(['C-C overlap population','C-H overlap population','fermi level'],loc='best')\nplt.xlabel('Orbital overlap')\nplt.ylabel('Energy [eV]')\nplt.show()"
      ]
    }
  ],
  "metadata": {
    "kernelspec": {
      "display_name": "Python 3",
      "language": "python",
      "name": "python3"
    },
    "language_info": {
      "codemirror_mode": {
        "name": "ipython",
        "version": 3
      },
      "file_extension": ".py",
      "mimetype": "text/x-python",
      "name": "python",
      "nbconvert_exporter": "python",
      "pygments_lexer": "ipython3",
      "version": "3.7.4"
    }
  },
  "nbformat": 4,
  "nbformat_minor": 0
}