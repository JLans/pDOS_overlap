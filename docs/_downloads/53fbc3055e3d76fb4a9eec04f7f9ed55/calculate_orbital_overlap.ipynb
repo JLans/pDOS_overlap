{
  "cells": [
    {
      "cell_type": "code",
      "execution_count": null,
      "metadata": {
        "collapsed": false
      },
      "outputs": [],
      "source": [
        "%matplotlib inline"
      ]
    },
    {
      "cell_type": "markdown",
      "metadata": {},
      "source": [
        "\n# Calculating orbital overlap using pdos_overlap\n\n\nThis example shows how calculate the overlap of gas phase molecular orbitals\nwith an adsorbate and surface atom.\n"
      ]
    },
    {
      "cell_type": "code",
      "execution_count": null,
      "metadata": {
        "collapsed": false
      },
      "outputs": [],
      "source": [
        "import os\nimport numpy as np\nfrom pdos_overlap import VASP_DOS\nfrom pdos_overlap.plotting_tools import set_figure_settings\nfrom pdos_overlap import get_adsorbate_indices\nfrom pdos_overlap import PDOS_OVERLAP"
      ]
    },
    {
      "cell_type": "markdown",
      "metadata": {},
      "source": [
        "Load DOSCAR file\n----------------\n\nFirst we will, get the example data, load a DOSCAR file and use it to\ninstantiate a VASP_DOS object.\n\n"
      ]
    },
    {
      "cell_type": "code",
      "execution_count": null,
      "metadata": {
        "collapsed": false
      },
      "outputs": [],
      "source": [
        "set_figure_settings('paper')\nnp.set_printoptions(linewidth=100)\n#These files are too large to store in the examples directory\nexample_path = r'C:\\Users\\lansf\\Documents\\Data\\PROBE_PDOS\\vasp_dos_files'\nGAS_DOSCAR = os.path.join(example_path, 'CO/DOSCAR')\nGAS_CONTCAR = os.path.join(example_path, 'CO/CONTCAR')\nADSORBATE_DOSCAR = os.path.join(example_path, 'CO+Pt111/DOSCAR')\nADSORBATE_CONTCAR = os.path.join(example_path, 'CO+Pt111/CONTCAR')\n\nGAS_PDOS = VASP_DOS(GAS_DOSCAR)\nREFERENCE_PDOS = VASP_DOS(ADSORBATE_DOSCAR)"
      ]
    },
    {
      "cell_type": "markdown",
      "metadata": {},
      "source": [
        "Obtain orbital overlap scores and mapping from gas to adsorbate indices\n-----------------------------------------------------------------------\n\nThis method utilizes two VASP_DOS objects, a gas and an adsorption system.\nIt uses the adosorbtion system (REFERENCE_PDOS) to map gas molecular orbitals\nto adsorbate molecular orbitals. It then calculates the adsorption site\natomic orbital energy overlaps with the adsorbate molecular orbital energies.\n\n"
      ]
    },
    {
      "cell_type": "code",
      "execution_count": null,
      "metadata": {
        "collapsed": false
      },
      "outputs": [],
      "source": [
        "adsorbate_indices, site_indices = get_adsorbate_indices(GAS_CONTCAR, ADSORBATE_CONTCAR)\n#Initialize Coordination object. Repeat is necessary so it doesn't count itself\nCO_overlap = PDOS_OVERLAP(GAS_PDOS, REFERENCE_PDOS, adsorbate_indices\\\n                          , site_indices, min_occupation=0.9)\n#print overlap scores\nprint('Orbital matching scores')\nprint(CO_overlap.orbital_scores)\nprint('#####################################################################')\nprint('Gas to adsorbate indices and band centers')\nprint(CO_overlap.gas_2_adsorbate)"
      ]
    },
    {
      "cell_type": "markdown",
      "metadata": {},
      "source": [
        "Plot projected density\n----------------------\n\nWe plot the projected density of the gas, adsorbate, and adsorption site.\n\n"
      ]
    },
    {
      "cell_type": "code",
      "execution_count": null,
      "metadata": {
        "collapsed": false
      },
      "outputs": [],
      "source": [
        "CO_overlap.plot_projected_density()"
      ]
    },
    {
      "cell_type": "markdown",
      "metadata": {},
      "source": [
        "Plot energy overlap\n-------------------\nWe select energy overlap histograms with the adsorbate molecular orbitals\nthat influence spectra.\n\n"
      ]
    },
    {
      "cell_type": "code",
      "execution_count": null,
      "metadata": {
        "collapsed": false
      },
      "outputs": [],
      "source": [
        "indices = [i for i in range(5) if CO_overlap.gas_2_adsorbate[i][0] in [1,2,3]]\nadsorbate_indices = CO_overlap.gas_2_adsorbate[indices,1].astype('int')\nCO_overlap.plot_energy_overlap(adsorbate_indices)"
      ]
    }
  ],
  "metadata": {
    "kernelspec": {
      "display_name": "Python 3",
      "language": "python",
      "name": "python3"
    },
    "language_info": {
      "codemirror_mode": {
        "name": "ipython",
        "version": 3
      },
      "file_extension": ".py",
      "mimetype": "text/x-python",
      "name": "python",
      "nbconvert_exporter": "python",
      "pygments_lexer": "ipython3",
      "version": "3.7.4"
    }
  },
  "nbformat": 4,
  "nbformat_minor": 0
}